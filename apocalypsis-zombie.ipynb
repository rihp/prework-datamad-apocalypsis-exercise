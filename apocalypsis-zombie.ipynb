{
 "cells": [
  {
   "cell_type": "markdown",
   "metadata": {},
   "source": [
    "# Apocalipsis zombie\n",
    "\n",
    "![](./images/thewalkingdead.jpeg)\n",
    "\n",
    "Cargas un arsenal de armas y una mochila con cargadores de munición de tamaño variable para algunos tipos de armas. ¿Cuántos zombies puedes matar antes de tener que echar a correr por tu vida? Deberás imprimir el resultado de cada caso que corresponde al número de balas que tienes de las armas que cargas.  \n",
    "\n",
    "ALGORITMO: Por cada arma diferente que cargas, tienes que comprobar si portas cargadores para ella. Si esto es afirmativo deberás sumar el total de balas que podrás disparar. "
   ]
  },
  {
   "cell_type": "markdown",
   "metadata": {},
   "source": [
    "## Caso 0: Ejemplo simple"
   ]
  },
  {
   "cell_type": "code",
   "execution_count": 7,
   "metadata": {},
   "outputs": [
    {
     "name": "stdout",
     "output_type": "stream",
     "text": [
      "current weapon: pistola\n",
      "loading bullets in this gun: pistola\n",
      "current weapon: escopeta\n",
      "loading bullets in this gun: escopeta\n",
      "30\n"
     ]
    }
   ],
   "source": [
    "armas = ['pistola','escopeta']\n",
    "\n",
    "cargadores = {\n",
    "    'pistola': [10, 10], \n",
    "    'escopeta': [2, 2, 2, 2, 2]\n",
    "}\n",
    "\n",
    "# your code\n",
    "\n",
    "headshots = 0\n",
    "\n",
    "for i in armas:\n",
    "    print('current weapon:', i)\n",
    "    \n",
    "    if i in cargadores.keys():\n",
    "        print('loading bullets in this gun:', i)\n",
    "        \n",
    "        for bullets in cargadores[i]:\n",
    "            headshots += bullets\n",
    "    \n",
    "    \n",
    "print(headshots)"
   ]
  },
  {
   "cell_type": "markdown",
   "metadata": {},
   "source": [
    "**Output esperado** -> 30"
   ]
  },
  {
   "cell_type": "markdown",
   "metadata": {},
   "source": [
    "## Caso 1: Mismas armas que municiones"
   ]
  },
  {
   "cell_type": "code",
   "execution_count": 8,
   "metadata": {},
   "outputs": [
    {
     "name": "stdout",
     "output_type": "stream",
     "text": [
      "current weapon: pistola\n",
      "loading bullets in this gun: pistola\n",
      "current weapon: ametralladora\n",
      "loading bullets in this gun: ametralladora\n",
      "current weapon: escopeta\n",
      "loading bullets in this gun: escopeta\n",
      "current weapon: fusil de francotirador\n",
      "loading bullets in this gun: fusil de francotirador\n",
      "158\n"
     ]
    }
   ],
   "source": [
    "armas = ['pistola', 'ametralladora', 'escopeta', 'fusil de francotirador']\n",
    "\n",
    "cargadores = {\n",
    "    'pistola': [12, 13, 4, 5, 20, 17], \n",
    "    'ametralladora': [33, 40], \n",
    "    'escopeta': [2, 2, 2, 1], \n",
    "    'fusil de francotirador': [1, 2, 4]\n",
    "}\n",
    "\n",
    "# your code\n",
    "\n",
    "headshots = 0\n",
    "\n",
    "for i in armas:\n",
    "    print('current weapon:', i)\n",
    "    \n",
    "    if i in cargadores.keys():\n",
    "        print('loading bullets in this gun:', i)\n",
    "        \n",
    "        for bullets in cargadores[i]:\n",
    "            headshots += bullets\n",
    "    \n",
    "    \n",
    "print(headshots)"
   ]
  },
  {
   "cell_type": "markdown",
   "metadata": {},
   "source": [
    "## Caso 2: Más tipos de munición que armas"
   ]
  },
  {
   "cell_type": "code",
   "execution_count": 9,
   "metadata": {},
   "outputs": [
    {
     "name": "stdout",
     "output_type": "stream",
     "text": [
      "current weapon: pistola\n",
      "loading bullets in this gun: pistola\n",
      "current weapon: ametralladora\n",
      "loading bullets in this gun: ametralladora\n",
      "current weapon: escopeta\n",
      "loading bullets in this gun: escopeta\n",
      "current weapon: fusil de francotirador\n",
      "loading bullets in this gun: fusil de francotirador\n",
      "158\n"
     ]
    }
   ],
   "source": [
    "armas = ['pistola', 'ametralladora', 'escopeta', 'fusil de francotirador']\n",
    "\n",
    "cargadores = {\n",
    "    'pistola': [12, 13, 4, 5, 20, 17], \n",
    "    'ametralladora': [33, 40], \n",
    "    'escopeta': [2, 2, 2, 1], \n",
    "    'fusil de francotirador': [1, 2, 4], \n",
    "    'bazoka': [1, 1]\n",
    "}\n",
    "\n",
    "# your code\n",
    "\n",
    "headshots = 0\n",
    "\n",
    "for i in armas:\n",
    "    print('current weapon:', i)\n",
    "    \n",
    "    if i in cargadores.keys():\n",
    "        print('loading bullets in this gun:', i)\n",
    "        \n",
    "        for bullets in cargadores[i]:\n",
    "            headshots += bullets\n",
    "    \n",
    "    \n",
    "print(headshots)"
   ]
  },
  {
   "cell_type": "markdown",
   "metadata": {},
   "source": [
    "## Caso 3: Más armas que tipos de munición"
   ]
  },
  {
   "cell_type": "code",
   "execution_count": 10,
   "metadata": {},
   "outputs": [
    {
     "name": "stdout",
     "output_type": "stream",
     "text": [
      "current weapon: pistola\n",
      "loading bullets in this gun: pistola\n",
      "current weapon: ametralladora\n",
      "loading bullets in this gun: ametralladora\n",
      "current weapon: escopeta\n",
      "loading bullets in this gun: escopeta\n",
      "current weapon: fusil de francotirador\n",
      "151\n"
     ]
    }
   ],
   "source": [
    "armas = ['pistola', 'ametralladora', 'escopeta', 'fusil de francotirador']\n",
    "\n",
    "cargadores = {\n",
    "    'pistola': [12, 13, 4, 5, 20, 17], \n",
    "    'ametralladora': [33, 40], \n",
    "    'escopeta': [2, 2, 2, 1] \n",
    "}\n",
    "\n",
    "# your code\n",
    "headshots = 0\n",
    "\n",
    "for i in armas:\n",
    "    print('current weapon:', i)\n",
    "    \n",
    "    if i in cargadores.keys():\n",
    "        print('loading bullets in this gun:', i)\n",
    "        \n",
    "        for bullets in cargadores[i]:\n",
    "            headshots += bullets\n",
    "    \n",
    "    \n",
    "print(headshots)"
   ]
  }
 ],
 "metadata": {
  "kernelspec": {
   "display_name": "Python 3",
   "language": "python",
   "name": "python3"
  },
  "language_info": {
   "codemirror_mode": {
    "name": "ipython",
    "version": 3
   },
   "file_extension": ".py",
   "mimetype": "text/x-python",
   "name": "python",
   "nbconvert_exporter": "python",
   "pygments_lexer": "ipython3",
   "version": "3.6.9"
  }
 },
 "nbformat": 4,
 "nbformat_minor": 2
}
